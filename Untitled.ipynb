{
 "cells": [
  {
   "cell_type": "code",
   "execution_count": 1,
   "metadata": {},
   "outputs": [],
   "source": [
    "import requests\n",
    "from bs4 import BeautifulSoup"
   ]
  },
  {
   "cell_type": "code",
   "execution_count": 2,
   "metadata": {},
   "outputs": [],
   "source": [
    "data_to_xmt = []"
   ]
  },
  {
   "cell_type": "code",
   "execution_count": 3,
   "metadata": {},
   "outputs": [],
   "source": [
    "url = 'https://habr.com/ru/search/?target_type=posts&order_by=relevance&q=hello+world&flow=develop'\n",
    "response = requests.get(url)"
   ]
  },
  {
   "cell_type": "code",
   "execution_count": 4,
   "metadata": {},
   "outputs": [],
   "source": [
    "soup = BeautifulSoup(response.text, \"html.parser\")"
   ]
  },
  {
   "cell_type": "code",
   "execution_count": 5,
   "metadata": {},
   "outputs": [],
   "source": [
    "price_box = soup.findAll('article', attrs={'class':'post post_preview'})"
   ]
  },
  {
   "cell_type": "code",
   "execution_count": 6,
   "metadata": {},
   "outputs": [],
   "source": [
    "index = 0\n",
    "for i in price_box:\n",
    "    data_to_xmt.append({})\n",
    "    price = i.find('span', attrs={'class':'user-info__nickname user-info__nickname_small'})\n",
    "    data_to_xmt[index][\"nickname\"] = price.text\n",
    "    price = i.find('span', attrs={'class':'post__time'})\n",
    "    data_to_xmt[index][\"time\"] = price.text\n",
    "    price  = i.find('a', attrs={'class':'post__title_link'})\n",
    "    data_to_xmt[index][\"title\"] = price.text\n",
    "    price  = i.findAll('a', attrs={'class':'inline-list__item-link hub-link'})\n",
    "    data_to_xmt[index][\"hab\"] = []\n",
    "    for j in price:\n",
    "        data_to_xmt[index][\"hab\"].append(j.text)\n",
    "    price  = i.find('div', attrs={'class':'post__text post__text-html OLD'})\n",
    "    data_to_xmt[index][\"text_article\"] = price.text\n",
    "    price  = i.find('span', attrs={'class':'post-stats__views-count'})\n",
    "    data_to_xmt[index][\"views\"] = price.text\n",
    "    \n",
    "    \n",
    "    index += 1"
   ]
  },
  {
   "cell_type": "code",
   "execution_count": 7,
   "metadata": {},
   "outputs": [],
   "source": [
    "for i in data_to_xmt:\n",
    "    if \"text_article\" in i:\n",
    "        i[\"text_article\"] = ''.join(i[\"text_article\"])\n",
    "        while \"  \" in i[\"text_article\"]:\n",
    "            i[\"text_article\"] = i[\"text_article\"].replace(\"  \", \" \")\n",
    "        i[\"text_article\"] = i[\"text_article\"].replace('\\n', '')"
   ]
  },
  {
   "cell_type": "code",
   "execution_count": 8,
   "metadata": {},
   "outputs": [],
   "source": [
    "from xml.dom import minidom"
   ]
  },
  {
   "cell_type": "code",
   "execution_count": 9,
   "metadata": {},
   "outputs": [
    {
     "data": {
      "text/plain": [
       "<DOM Element: root at 0x257ed0e0470>"
      ]
     },
     "execution_count": 9,
     "metadata": {},
     "output_type": "execute_result"
    }
   ],
   "source": [
    "doc = minidom.Document()\n",
    "root = doc.createElement('root')\n",
    "doc.appendChild(root)"
   ]
  },
  {
   "cell_type": "code",
   "execution_count": 10,
   "metadata": {},
   "outputs": [],
   "source": [
    "index = 0\n",
    "for i in data_to_xmt:\n",
    "    article = doc.createElement('article')\n",
    "    article.setAttribute('index', str(index))\n",
    "    \n",
    "    \n",
    "    title = doc.createElement('title')\n",
    "    text = doc.createTextNode(i['title'])\n",
    "    title.appendChild(text)\n",
    "    article.appendChild(title)\n",
    "    \n",
    "    nickname = doc.createElement('nickname')\n",
    "    text = doc.createTextNode(i['nickname'])\n",
    "    nickname.appendChild(text)\n",
    "    article.appendChild(nickname)\n",
    "    \n",
    "    time = doc.createElement('time')\n",
    "    text = doc.createTextNode(i['time'])\n",
    "    time.appendChild(text)\n",
    "    article.appendChild(time)\n",
    "    \n",
    "    habs = doc.createElement('habs')\n",
    "    if \"hab\" in i:\n",
    "        for j in i[\"hab\"]:\n",
    "            hab = doc.createElement(\"hab\")\n",
    "            text = doc.createTextNode(j)\n",
    "            hab.appendChild(text)\n",
    "            habs.appendChild(hab)\n",
    "    article.appendChild(habs)\n",
    "            \n",
    "    if \"text_article\" in i:\n",
    "        text_article = doc.createElement('text_article')\n",
    "        text = doc.createTextNode(i['text_article'])\n",
    "        text_article.appendChild(text)\n",
    "        article.appendChild(text_article)\n",
    "        \n",
    "    \n",
    "    views = doc.createElement('views')\n",
    "    text = doc.createTextNode(i['views'])\n",
    "    views.appendChild(text)\n",
    "    article.appendChild(views)\n",
    "    \n",
    "    root.appendChild(article)\n",
    "    index += 1"
   ]
  },
  {
   "cell_type": "code",
   "execution_count": 14,
   "metadata": {},
   "outputs": [
    {
     "data": {
      "text/plain": [
       "9270"
      ]
     },
     "execution_count": 14,
     "metadata": {},
     "output_type": "execute_result"
    }
   ],
   "source": [
    "xml_str = doc.toprettyxml(indent=\"  \")\n",
    "\n",
    "xml_str.encode(\"cp1251\")\n",
    "\n",
    "f = open(\"lab1.xml\", \"w\")\n",
    "f.write(xml_str)"
   ]
  },
  {
   "cell_type": "code",
   "execution_count": 13,
   "metadata": {},
   "outputs": [],
   "source": [
    "import xmlschema"
   ]
  },
  {
   "cell_type": "code",
   "execution_count": 16,
   "metadata": {},
   "outputs": [],
   "source": [
    "import codecs\n",
    "filename = \"lab1.xml\"\n",
    "f = codecs.open(filename, 'r', 'cp1251')\n",
    "u = f.read()   # now the contents have been transformed to a Unicode string\n",
    "out = codecs.open(filename, 'w', 'utf-8')\n",
    "out.write(u)   # and now the contents have been output as UTF-8"
   ]
  },
  {
   "cell_type": "code",
   "execution_count": null,
   "metadata": {},
   "outputs": [],
   "source": []
  }
 ],
 "metadata": {
  "kernelspec": {
   "display_name": "Python 3",
   "language": "python",
   "name": "python3"
  },
  "language_info": {
   "codemirror_mode": {
    "name": "ipython",
    "version": 3
   },
   "file_extension": ".py",
   "mimetype": "text/x-python",
   "name": "python",
   "nbconvert_exporter": "python",
   "pygments_lexer": "ipython3",
   "version": "3.7.3"
  }
 },
 "nbformat": 4,
 "nbformat_minor": 2
}
